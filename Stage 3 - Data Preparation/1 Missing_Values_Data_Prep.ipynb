{
  "nbformat": 4,
  "nbformat_minor": 0,
  "metadata": {
    "colab": {
      "name": "Missing Values_Data Prep.ipynb",
      "provenance": []
    },
    "kernelspec": {
      "name": "python3",
      "display_name": "Python 3"
    }
  },
  "cells": [
    {
      "cell_type": "markdown",
      "metadata": {
        "id": "xL53UrmsH9IJ",
        "colab_type": "text"
      },
      "source": [
        "**Working with missing values**"
      ]
    },
    {
      "cell_type": "code",
      "metadata": {
        "id": "MbNmy3OIFATW",
        "colab_type": "code",
        "colab": {}
      },
      "source": [
        "# import the libraries\n",
        "import pandas as pd\n",
        "import numpy as np\n",
        "\n",
        "df = pd.DataFrame(np.random.randn(5, 3), index=['a', 'c', 'e', 'f', 'h'],columns=['col1', 'col2', 'col3'])"
      ],
      "execution_count": 1,
      "outputs": []
    },
    {
      "cell_type": "code",
      "metadata": {
        "id": "YtpXG-vkH1Gj",
        "colab_type": "code",
        "colab": {
          "base_uri": "https://localhost:8080/",
          "height": 286
        },
        "outputId": "5fb658f8-2a4d-4156-d3d3-642b89b02287"
      },
      "source": [
        "df = df.reindex(['a', 'b', 'c', 'd', 'e', 'f', 'g', 'h'])\n",
        "df"
      ],
      "execution_count": 2,
      "outputs": [
        {
          "output_type": "execute_result",
          "data": {
            "text/html": [
              "<div>\n",
              "<style scoped>\n",
              "    .dataframe tbody tr th:only-of-type {\n",
              "        vertical-align: middle;\n",
              "    }\n",
              "\n",
              "    .dataframe tbody tr th {\n",
              "        vertical-align: top;\n",
              "    }\n",
              "\n",
              "    .dataframe thead th {\n",
              "        text-align: right;\n",
              "    }\n",
              "</style>\n",
              "<table border=\"1\" class=\"dataframe\">\n",
              "  <thead>\n",
              "    <tr style=\"text-align: right;\">\n",
              "      <th></th>\n",
              "      <th>col1</th>\n",
              "      <th>col2</th>\n",
              "      <th>col3</th>\n",
              "    </tr>\n",
              "  </thead>\n",
              "  <tbody>\n",
              "    <tr>\n",
              "      <th>a</th>\n",
              "      <td>0.460156</td>\n",
              "      <td>-1.081714</td>\n",
              "      <td>-2.747526</td>\n",
              "    </tr>\n",
              "    <tr>\n",
              "      <th>b</th>\n",
              "      <td>NaN</td>\n",
              "      <td>NaN</td>\n",
              "      <td>NaN</td>\n",
              "    </tr>\n",
              "    <tr>\n",
              "      <th>c</th>\n",
              "      <td>0.352825</td>\n",
              "      <td>-0.841815</td>\n",
              "      <td>-0.096485</td>\n",
              "    </tr>\n",
              "    <tr>\n",
              "      <th>d</th>\n",
              "      <td>NaN</td>\n",
              "      <td>NaN</td>\n",
              "      <td>NaN</td>\n",
              "    </tr>\n",
              "    <tr>\n",
              "      <th>e</th>\n",
              "      <td>0.473043</td>\n",
              "      <td>0.101894</td>\n",
              "      <td>0.219936</td>\n",
              "    </tr>\n",
              "    <tr>\n",
              "      <th>f</th>\n",
              "      <td>-0.805117</td>\n",
              "      <td>0.135705</td>\n",
              "      <td>-0.163069</td>\n",
              "    </tr>\n",
              "    <tr>\n",
              "      <th>g</th>\n",
              "      <td>NaN</td>\n",
              "      <td>NaN</td>\n",
              "      <td>NaN</td>\n",
              "    </tr>\n",
              "    <tr>\n",
              "      <th>h</th>\n",
              "      <td>-0.922018</td>\n",
              "      <td>-0.019957</td>\n",
              "      <td>-0.474301</td>\n",
              "    </tr>\n",
              "  </tbody>\n",
              "</table>\n",
              "</div>"
            ],
            "text/plain": [
              "       col1      col2      col3\n",
              "a  0.460156 -1.081714 -2.747526\n",
              "b       NaN       NaN       NaN\n",
              "c  0.352825 -0.841815 -0.096485\n",
              "d       NaN       NaN       NaN\n",
              "e  0.473043  0.101894  0.219936\n",
              "f -0.805117  0.135705 -0.163069\n",
              "g       NaN       NaN       NaN\n",
              "h -0.922018 -0.019957 -0.474301"
            ]
          },
          "metadata": {
            "tags": []
          },
          "execution_count": 2
        }
      ]
    },
    {
      "cell_type": "markdown",
      "metadata": {
        "id": "WYgcm5SzIIMf",
        "colab_type": "text"
      },
      "source": [
        "**Check for Missing Values**"
      ]
    },
    {
      "cell_type": "code",
      "metadata": {
        "id": "xYhZUKsAH4Xb",
        "colab_type": "code",
        "colab": {
          "base_uri": "https://localhost:8080/",
          "height": 167
        },
        "outputId": "3d3b309c-a847-45cf-ecf3-601b2fb2a043"
      },
      "source": [
        "df['col1'].isnull()"
      ],
      "execution_count": 3,
      "outputs": [
        {
          "output_type": "execute_result",
          "data": {
            "text/plain": [
              "a    False\n",
              "b     True\n",
              "c    False\n",
              "d     True\n",
              "e    False\n",
              "f    False\n",
              "g     True\n",
              "h    False\n",
              "Name: col1, dtype: bool"
            ]
          },
          "metadata": {
            "tags": []
          },
          "execution_count": 3
        }
      ]
    },
    {
      "cell_type": "markdown",
      "metadata": {
        "id": "lN9lUTT9Ih8v",
        "colab_type": "text"
      },
      "source": [
        "**Cleaning / Filling Missing Data**"
      ]
    },
    {
      "cell_type": "markdown",
      "metadata": {
        "id": "KZjZR-pXIw2X",
        "colab_type": "text"
      },
      "source": [
        "**1. Replace \"NaN\" with \"0\":**"
      ]
    },
    {
      "cell_type": "code",
      "metadata": {
        "id": "yQknxL8WITjj",
        "colab_type": "code",
        "colab": {}
      },
      "source": [
        "df = pd.DataFrame(np.random.randn(3, 3), index=['a', 'c', 'e'],columns=['one', 'two', 'three'])"
      ],
      "execution_count": 4,
      "outputs": []
    },
    {
      "cell_type": "code",
      "metadata": {
        "id": "ff0nfQo2I5Od",
        "colab_type": "code",
        "colab": {
          "base_uri": "https://localhost:8080/",
          "height": 137
        },
        "outputId": "67f35e32-e5ff-46fb-da95-d6708d6bc939"
      },
      "source": [
        "df = df.reindex(['a', 'b', 'c'])\n",
        "df"
      ],
      "execution_count": 5,
      "outputs": [
        {
          "output_type": "execute_result",
          "data": {
            "text/html": [
              "<div>\n",
              "<style scoped>\n",
              "    .dataframe tbody tr th:only-of-type {\n",
              "        vertical-align: middle;\n",
              "    }\n",
              "\n",
              "    .dataframe tbody tr th {\n",
              "        vertical-align: top;\n",
              "    }\n",
              "\n",
              "    .dataframe thead th {\n",
              "        text-align: right;\n",
              "    }\n",
              "</style>\n",
              "<table border=\"1\" class=\"dataframe\">\n",
              "  <thead>\n",
              "    <tr style=\"text-align: right;\">\n",
              "      <th></th>\n",
              "      <th>one</th>\n",
              "      <th>two</th>\n",
              "      <th>three</th>\n",
              "    </tr>\n",
              "  </thead>\n",
              "  <tbody>\n",
              "    <tr>\n",
              "      <th>a</th>\n",
              "      <td>-0.125501</td>\n",
              "      <td>0.542916</td>\n",
              "      <td>0.244537</td>\n",
              "    </tr>\n",
              "    <tr>\n",
              "      <th>b</th>\n",
              "      <td>NaN</td>\n",
              "      <td>NaN</td>\n",
              "      <td>NaN</td>\n",
              "    </tr>\n",
              "    <tr>\n",
              "      <th>c</th>\n",
              "      <td>1.950167</td>\n",
              "      <td>-0.532046</td>\n",
              "      <td>-0.521901</td>\n",
              "    </tr>\n",
              "  </tbody>\n",
              "</table>\n",
              "</div>"
            ],
            "text/plain": [
              "        one       two     three\n",
              "a -0.125501  0.542916  0.244537\n",
              "b       NaN       NaN       NaN\n",
              "c  1.950167 -0.532046 -0.521901"
            ]
          },
          "metadata": {
            "tags": []
          },
          "execution_count": 5
        }
      ]
    },
    {
      "cell_type": "code",
      "metadata": {
        "id": "fIf_Zp1TI69L",
        "colab_type": "code",
        "colab": {
          "base_uri": "https://localhost:8080/",
          "height": 153
        },
        "outputId": "bc4fcda7-b952-4b2d-ee03-864c54e51c7e"
      },
      "source": [
        "print (\"NaN replaced with '0':\")\n",
        "df.fillna(0)"
      ],
      "execution_count": 6,
      "outputs": [
        {
          "output_type": "stream",
          "text": [
            "NaN replaced with '0':\n"
          ],
          "name": "stdout"
        },
        {
          "output_type": "execute_result",
          "data": {
            "text/html": [
              "<div>\n",
              "<style scoped>\n",
              "    .dataframe tbody tr th:only-of-type {\n",
              "        vertical-align: middle;\n",
              "    }\n",
              "\n",
              "    .dataframe tbody tr th {\n",
              "        vertical-align: top;\n",
              "    }\n",
              "\n",
              "    .dataframe thead th {\n",
              "        text-align: right;\n",
              "    }\n",
              "</style>\n",
              "<table border=\"1\" class=\"dataframe\">\n",
              "  <thead>\n",
              "    <tr style=\"text-align: right;\">\n",
              "      <th></th>\n",
              "      <th>one</th>\n",
              "      <th>two</th>\n",
              "      <th>three</th>\n",
              "    </tr>\n",
              "  </thead>\n",
              "  <tbody>\n",
              "    <tr>\n",
              "      <th>a</th>\n",
              "      <td>-0.125501</td>\n",
              "      <td>0.542916</td>\n",
              "      <td>0.244537</td>\n",
              "    </tr>\n",
              "    <tr>\n",
              "      <th>b</th>\n",
              "      <td>0.000000</td>\n",
              "      <td>0.000000</td>\n",
              "      <td>0.000000</td>\n",
              "    </tr>\n",
              "    <tr>\n",
              "      <th>c</th>\n",
              "      <td>1.950167</td>\n",
              "      <td>-0.532046</td>\n",
              "      <td>-0.521901</td>\n",
              "    </tr>\n",
              "  </tbody>\n",
              "</table>\n",
              "</div>"
            ],
            "text/plain": [
              "        one       two     three\n",
              "a -0.125501  0.542916  0.244537\n",
              "b  0.000000  0.000000  0.000000\n",
              "c  1.950167 -0.532046 -0.521901"
            ]
          },
          "metadata": {
            "tags": []
          },
          "execution_count": 6
        }
      ]
    },
    {
      "cell_type": "markdown",
      "metadata": {
        "id": "nD-Ak8zlLOez",
        "colab_type": "text"
      },
      "source": [
        "**2. Replace \"NaN\" with Mean:**"
      ]
    },
    {
      "cell_type": "code",
      "metadata": {
        "id": "pcrQsdwKKs3_",
        "colab_type": "code",
        "colab": {
          "base_uri": "https://localhost:8080/",
          "height": 137
        },
        "outputId": "23732868-0e21-4d3b-e032-1a56564e8538"
      },
      "source": [
        "df.fillna(df.mean())"
      ],
      "execution_count": 9,
      "outputs": [
        {
          "output_type": "execute_result",
          "data": {
            "text/html": [
              "<div>\n",
              "<style scoped>\n",
              "    .dataframe tbody tr th:only-of-type {\n",
              "        vertical-align: middle;\n",
              "    }\n",
              "\n",
              "    .dataframe tbody tr th {\n",
              "        vertical-align: top;\n",
              "    }\n",
              "\n",
              "    .dataframe thead th {\n",
              "        text-align: right;\n",
              "    }\n",
              "</style>\n",
              "<table border=\"1\" class=\"dataframe\">\n",
              "  <thead>\n",
              "    <tr style=\"text-align: right;\">\n",
              "      <th></th>\n",
              "      <th>one</th>\n",
              "      <th>two</th>\n",
              "      <th>three</th>\n",
              "    </tr>\n",
              "  </thead>\n",
              "  <tbody>\n",
              "    <tr>\n",
              "      <th>a</th>\n",
              "      <td>-0.125501</td>\n",
              "      <td>0.542916</td>\n",
              "      <td>0.244537</td>\n",
              "    </tr>\n",
              "    <tr>\n",
              "      <th>b</th>\n",
              "      <td>0.912333</td>\n",
              "      <td>0.005435</td>\n",
              "      <td>-0.138682</td>\n",
              "    </tr>\n",
              "    <tr>\n",
              "      <th>c</th>\n",
              "      <td>1.950167</td>\n",
              "      <td>-0.532046</td>\n",
              "      <td>-0.521901</td>\n",
              "    </tr>\n",
              "  </tbody>\n",
              "</table>\n",
              "</div>"
            ],
            "text/plain": [
              "        one       two     three\n",
              "a -0.125501  0.542916  0.244537\n",
              "b  0.912333  0.005435 -0.138682\n",
              "c  1.950167 -0.532046 -0.521901"
            ]
          },
          "metadata": {
            "tags": []
          },
          "execution_count": 9
        }
      ]
    },
    {
      "cell_type": "markdown",
      "metadata": {
        "id": "m2v7HitfJB-g",
        "colab_type": "text"
      },
      "source": [
        "**3. Drop Missing Values:**"
      ]
    },
    {
      "cell_type": "code",
      "metadata": {
        "id": "x71cJmdUI_Ty",
        "colab_type": "code",
        "colab": {
          "base_uri": "https://localhost:8080/",
          "height": 286
        },
        "outputId": "706b66fa-e12d-4ee6-9574-61be07c08c7e"
      },
      "source": [
        "df = pd.DataFrame(np.random.randn(5, 3), index=['a', 'c', 'e', 'f', 'h'],columns=['col1', 'col2', 'col3'])\n",
        "df = df.reindex(['a', 'b', 'c', 'd', 'e', 'f', 'g', 'h'])\n",
        "df"
      ],
      "execution_count": 10,
      "outputs": [
        {
          "output_type": "execute_result",
          "data": {
            "text/html": [
              "<div>\n",
              "<style scoped>\n",
              "    .dataframe tbody tr th:only-of-type {\n",
              "        vertical-align: middle;\n",
              "    }\n",
              "\n",
              "    .dataframe tbody tr th {\n",
              "        vertical-align: top;\n",
              "    }\n",
              "\n",
              "    .dataframe thead th {\n",
              "        text-align: right;\n",
              "    }\n",
              "</style>\n",
              "<table border=\"1\" class=\"dataframe\">\n",
              "  <thead>\n",
              "    <tr style=\"text-align: right;\">\n",
              "      <th></th>\n",
              "      <th>col1</th>\n",
              "      <th>col2</th>\n",
              "      <th>col3</th>\n",
              "    </tr>\n",
              "  </thead>\n",
              "  <tbody>\n",
              "    <tr>\n",
              "      <th>a</th>\n",
              "      <td>-0.616931</td>\n",
              "      <td>1.058241</td>\n",
              "      <td>1.799449</td>\n",
              "    </tr>\n",
              "    <tr>\n",
              "      <th>b</th>\n",
              "      <td>NaN</td>\n",
              "      <td>NaN</td>\n",
              "      <td>NaN</td>\n",
              "    </tr>\n",
              "    <tr>\n",
              "      <th>c</th>\n",
              "      <td>0.155400</td>\n",
              "      <td>0.203395</td>\n",
              "      <td>0.230870</td>\n",
              "    </tr>\n",
              "    <tr>\n",
              "      <th>d</th>\n",
              "      <td>NaN</td>\n",
              "      <td>NaN</td>\n",
              "      <td>NaN</td>\n",
              "    </tr>\n",
              "    <tr>\n",
              "      <th>e</th>\n",
              "      <td>-0.718872</td>\n",
              "      <td>0.399152</td>\n",
              "      <td>-0.822284</td>\n",
              "    </tr>\n",
              "    <tr>\n",
              "      <th>f</th>\n",
              "      <td>0.937365</td>\n",
              "      <td>0.282560</td>\n",
              "      <td>-1.119960</td>\n",
              "    </tr>\n",
              "    <tr>\n",
              "      <th>g</th>\n",
              "      <td>NaN</td>\n",
              "      <td>NaN</td>\n",
              "      <td>NaN</td>\n",
              "    </tr>\n",
              "    <tr>\n",
              "      <th>h</th>\n",
              "      <td>1.179591</td>\n",
              "      <td>0.452233</td>\n",
              "      <td>0.475778</td>\n",
              "    </tr>\n",
              "  </tbody>\n",
              "</table>\n",
              "</div>"
            ],
            "text/plain": [
              "       col1      col2      col3\n",
              "a -0.616931  1.058241  1.799449\n",
              "b       NaN       NaN       NaN\n",
              "c  0.155400  0.203395  0.230870\n",
              "d       NaN       NaN       NaN\n",
              "e -0.718872  0.399152 -0.822284\n",
              "f  0.937365  0.282560 -1.119960\n",
              "g       NaN       NaN       NaN\n",
              "h  1.179591  0.452233  0.475778"
            ]
          },
          "metadata": {
            "tags": []
          },
          "execution_count": 10
        }
      ]
    },
    {
      "cell_type": "code",
      "metadata": {
        "id": "om1oDYguJeUi",
        "colab_type": "code",
        "colab": {
          "base_uri": "https://localhost:8080/",
          "height": 196
        },
        "outputId": "553a411b-7b51-4067-ed7f-23bd4c40a6f4"
      },
      "source": [
        "df.dropna()"
      ],
      "execution_count": 11,
      "outputs": [
        {
          "output_type": "execute_result",
          "data": {
            "text/html": [
              "<div>\n",
              "<style scoped>\n",
              "    .dataframe tbody tr th:only-of-type {\n",
              "        vertical-align: middle;\n",
              "    }\n",
              "\n",
              "    .dataframe tbody tr th {\n",
              "        vertical-align: top;\n",
              "    }\n",
              "\n",
              "    .dataframe thead th {\n",
              "        text-align: right;\n",
              "    }\n",
              "</style>\n",
              "<table border=\"1\" class=\"dataframe\">\n",
              "  <thead>\n",
              "    <tr style=\"text-align: right;\">\n",
              "      <th></th>\n",
              "      <th>col1</th>\n",
              "      <th>col2</th>\n",
              "      <th>col3</th>\n",
              "    </tr>\n",
              "  </thead>\n",
              "  <tbody>\n",
              "    <tr>\n",
              "      <th>a</th>\n",
              "      <td>-0.616931</td>\n",
              "      <td>1.058241</td>\n",
              "      <td>1.799449</td>\n",
              "    </tr>\n",
              "    <tr>\n",
              "      <th>c</th>\n",
              "      <td>0.155400</td>\n",
              "      <td>0.203395</td>\n",
              "      <td>0.230870</td>\n",
              "    </tr>\n",
              "    <tr>\n",
              "      <th>e</th>\n",
              "      <td>-0.718872</td>\n",
              "      <td>0.399152</td>\n",
              "      <td>-0.822284</td>\n",
              "    </tr>\n",
              "    <tr>\n",
              "      <th>f</th>\n",
              "      <td>0.937365</td>\n",
              "      <td>0.282560</td>\n",
              "      <td>-1.119960</td>\n",
              "    </tr>\n",
              "    <tr>\n",
              "      <th>h</th>\n",
              "      <td>1.179591</td>\n",
              "      <td>0.452233</td>\n",
              "      <td>0.475778</td>\n",
              "    </tr>\n",
              "  </tbody>\n",
              "</table>\n",
              "</div>"
            ],
            "text/plain": [
              "       col1      col2      col3\n",
              "a -0.616931  1.058241  1.799449\n",
              "c  0.155400  0.203395  0.230870\n",
              "e -0.718872  0.399152 -0.822284\n",
              "f  0.937365  0.282560 -1.119960\n",
              "h  1.179591  0.452233  0.475778"
            ]
          },
          "metadata": {
            "tags": []
          },
          "execution_count": 11
        }
      ]
    },
    {
      "cell_type": "code",
      "metadata": {
        "id": "5X5KwrZtLW3Q",
        "colab_type": "code",
        "colab": {}
      },
      "source": [
        ""
      ],
      "execution_count": 11,
      "outputs": []
    }
  ]
}