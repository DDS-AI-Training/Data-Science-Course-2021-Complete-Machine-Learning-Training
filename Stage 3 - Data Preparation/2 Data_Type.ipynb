{
  "nbformat": 4,
  "nbformat_minor": 0,
  "metadata": {
    "colab": {
      "name": "Data Type.ipynb",
      "provenance": []
    },
    "kernelspec": {
      "name": "python3",
      "display_name": "Python 3"
    }
  },
  "cells": [
    {
      "cell_type": "markdown",
      "metadata": {
        "id": "Wu-CBmuAkS7z",
        "colab_type": "text"
      },
      "source": [
        "**Data types for ndarrays**"
      ]
    },
    {
      "cell_type": "code",
      "metadata": {
        "id": "udJzQh-4kQme",
        "colab_type": "code",
        "colab": {
          "base_uri": "https://localhost:8080/",
          "height": 33
        },
        "outputId": "8b6193ca-93c2-4fdd-96a2-9020e3e3f23c"
      },
      "source": [
        "import numpy as np\n",
        "arr1=np.array([1, 2, 3], dtype=np.int32)\n",
        "arr1.dtype"
      ],
      "execution_count": 1,
      "outputs": [
        {
          "output_type": "execute_result",
          "data": {
            "text/plain": [
              "dtype('int32')"
            ]
          },
          "metadata": {
            "tags": []
          },
          "execution_count": 1
        }
      ]
    },
    {
      "cell_type": "markdown",
      "metadata": {
        "id": "rLnVjHRhkbD9",
        "colab_type": "text"
      },
      "source": [
        "**ndarray data type casting**"
      ]
    },
    {
      "cell_type": "code",
      "metadata": {
        "id": "e5NoLmIUkYOa",
        "colab_type": "code",
        "colab": {
          "base_uri": "https://localhost:8080/",
          "height": 33
        },
        "outputId": "8b6610cc-447d-451e-fce1-9a0916ec4021"
      },
      "source": [
        "arr1.dtype"
      ],
      "execution_count": 2,
      "outputs": [
        {
          "output_type": "execute_result",
          "data": {
            "text/plain": [
              "dtype('int32')"
            ]
          },
          "metadata": {
            "tags": []
          },
          "execution_count": 2
        }
      ]
    },
    {
      "cell_type": "code",
      "metadata": {
        "id": "Razxsm3QkhAR",
        "colab_type": "code",
        "colab": {
          "base_uri": "https://localhost:8080/",
          "height": 33
        },
        "outputId": "4fa6a760-6e93-4e99-eddc-74797c1a41bb"
      },
      "source": [
        "arr2=arr1.astype(np.float64)\n",
        "arr2"
      ],
      "execution_count": 3,
      "outputs": [
        {
          "output_type": "execute_result",
          "data": {
            "text/plain": [
              "array([1., 2., 3.])"
            ]
          },
          "metadata": {
            "tags": []
          },
          "execution_count": 3
        }
      ]
    },
    {
      "cell_type": "code",
      "metadata": {
        "id": "BWimMQy6klfu",
        "colab_type": "code",
        "colab": {
          "base_uri": "https://localhost:8080/",
          "height": 33
        },
        "outputId": "4bb778a6-aa8c-4e3f-bcec-167366c1b1aa"
      },
      "source": [
        "arr2.dtype"
      ],
      "execution_count": 4,
      "outputs": [
        {
          "output_type": "execute_result",
          "data": {
            "text/plain": [
              "dtype('float64')"
            ]
          },
          "metadata": {
            "tags": []
          },
          "execution_count": 4
        }
      ]
    },
    {
      "cell_type": "markdown",
      "metadata": {
        "id": "aEMXXqGrNd8_",
        "colab_type": "text"
      },
      "source": [
        "**\"asarry\" creates new array**"
      ]
    },
    {
      "cell_type": "code",
      "metadata": {
        "id": "5zcpUjhzNMdn",
        "colab_type": "code",
        "colab": {
          "base_uri": "https://localhost:8080/",
          "height": 50
        },
        "outputId": "58fb94f4-92d8-4bb0-d38a-9b988140e96c"
      },
      "source": [
        "data2=[[1,2,3,4],[5,6,7,8]]\n",
        "arr3=np.array(data2)\n",
        "arr3"
      ],
      "execution_count": 5,
      "outputs": [
        {
          "output_type": "execute_result",
          "data": {
            "text/plain": [
              "array([[1, 2, 3, 4],\n",
              "       [5, 6, 7, 8]])"
            ]
          },
          "metadata": {
            "tags": []
          },
          "execution_count": 5
        }
      ]
    },
    {
      "cell_type": "code",
      "metadata": {
        "id": "qiLca4ybk3kX",
        "colab_type": "code",
        "colab": {
          "base_uri": "https://localhost:8080/",
          "height": 50
        },
        "outputId": "f09d8342-328e-4486-f7fc-97f8cac2b9b9"
      },
      "source": [
        "arr3.astype(arr2.dtype)"
      ],
      "execution_count": 6,
      "outputs": [
        {
          "output_type": "execute_result",
          "data": {
            "text/plain": [
              "array([[1., 2., 3., 4.],\n",
              "       [5., 6., 7., 8.]])"
            ]
          },
          "metadata": {
            "tags": []
          },
          "execution_count": 6
        }
      ]
    },
    {
      "cell_type": "code",
      "metadata": {
        "id": "cE3768uUNQhI",
        "colab_type": "code",
        "colab": {}
      },
      "source": [
        ""
      ],
      "execution_count": 6,
      "outputs": []
    }
  ]
}