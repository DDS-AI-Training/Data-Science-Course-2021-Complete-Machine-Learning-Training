{
  "nbformat": 4,
  "nbformat_minor": 0,
  "metadata": {
    "colab": {
      "name": "Pandas complete.ipynb",
      "provenance": [],
      "collapsed_sections": []
    },
    "kernelspec": {
      "name": "python3",
      "display_name": "Python 3"
    }
  },
  "cells": [
    {
      "cell_type": "markdown",
      "metadata": {
        "id": "1VOeBIHaDgxR",
        "colab_type": "text"
      },
      "source": [
        "**Series**\n"
      ]
    },
    {
      "cell_type": "markdown",
      "metadata": {
        "id": "CzysXE5HDqKF",
        "colab_type": "text"
      },
      "source": [
        "Series = an array of data with an array of indices\n"
      ]
    },
    {
      "cell_type": "code",
      "metadata": {
        "id": "1A3Lim04Dajo",
        "colab_type": "code",
        "colab": {
          "base_uri": "https://localhost:8080/",
          "height": 100
        },
        "outputId": "e99a6d30-7c0f-4bed-bade-74684f94a356"
      },
      "source": [
        "import pandas as pd\n",
        "series1 = pd.Series([1,3,-5,6])\n",
        "series1"
      ],
      "execution_count": 1,
      "outputs": [
        {
          "output_type": "execute_result",
          "data": {
            "text/plain": [
              "0    1\n",
              "1    3\n",
              "2   -5\n",
              "3    6\n",
              "dtype: int64"
            ]
          },
          "metadata": {
            "tags": []
          },
          "execution_count": 1
        }
      ]
    },
    {
      "cell_type": "code",
      "metadata": {
        "id": "vv6myERUDihK",
        "colab_type": "code",
        "colab": {
          "base_uri": "https://localhost:8080/",
          "height": 33
        },
        "outputId": "34eb251e-e10f-4b1b-c949-b5962f4cb56f"
      },
      "source": [
        "series1.values"
      ],
      "execution_count": 2,
      "outputs": [
        {
          "output_type": "execute_result",
          "data": {
            "text/plain": [
              "array([ 1,  3, -5,  6])"
            ]
          },
          "metadata": {
            "tags": []
          },
          "execution_count": 2
        }
      ]
    },
    {
      "cell_type": "code",
      "metadata": {
        "id": "NIx7WBktDw1B",
        "colab_type": "code",
        "colab": {
          "base_uri": "https://localhost:8080/",
          "height": 33
        },
        "outputId": "502798c8-c9b1-409f-8d0c-d042442e4765"
      },
      "source": [
        "series1.index"
      ],
      "execution_count": 3,
      "outputs": [
        {
          "output_type": "execute_result",
          "data": {
            "text/plain": [
              "RangeIndex(start=0, stop=4, step=1)"
            ]
          },
          "metadata": {
            "tags": []
          },
          "execution_count": 3
        }
      ]
    },
    {
      "cell_type": "markdown",
      "metadata": {
        "id": "9aMfUwnhEBK0",
        "colab_type": "text"
      },
      "source": [
        "**Series Indices**"
      ]
    },
    {
      "cell_type": "markdown",
      "metadata": {
        "id": "iTNMYbUvEH8I",
        "colab_type": "text"
      },
      "source": [
        "Default indices are 0,1,2,3,…\n",
        "However indices may be specified"
      ]
    },
    {
      "cell_type": "code",
      "metadata": {
        "id": "vhXxblN3DyhI",
        "colab_type": "code",
        "colab": {
          "base_uri": "https://localhost:8080/",
          "height": 100
        },
        "outputId": "c447f246-a4bc-4b4c-a5b0-94fe8e9b47fb"
      },
      "source": [
        "series2=pd.Series([13,15,17,19],index=[\"apple\",\"orange\",\"banana\",\"mango\"])\n",
        "series2"
      ],
      "execution_count": 4,
      "outputs": [
        {
          "output_type": "execute_result",
          "data": {
            "text/plain": [
              "apple     13\n",
              "orange    15\n",
              "banana    17\n",
              "mango     19\n",
              "dtype: int64"
            ]
          },
          "metadata": {
            "tags": []
          },
          "execution_count": 4
        }
      ]
    },
    {
      "cell_type": "markdown",
      "metadata": {
        "id": "Q-lWvEVNEjsg",
        "colab_type": "text"
      },
      "source": [
        "**Accessing Series Elements**"
      ]
    },
    {
      "cell_type": "markdown",
      "metadata": {
        "id": "8by5jeTPEhoV",
        "colab_type": "text"
      },
      "source": [
        "We can access single or subset of indices"
      ]
    },
    {
      "cell_type": "code",
      "metadata": {
        "id": "4B7pmPMYENul",
        "colab_type": "code",
        "colab": {}
      },
      "source": [
        "series2['apple']=11"
      ],
      "execution_count": 5,
      "outputs": []
    },
    {
      "cell_type": "code",
      "metadata": {
        "id": "WYLXiiMxEhCE",
        "colab_type": "code",
        "colab": {
          "base_uri": "https://localhost:8080/",
          "height": 67
        },
        "outputId": "a7df87b6-4203-4c10-d41d-980e96b34f40"
      },
      "source": [
        "series2[['apple','mango']]"
      ],
      "execution_count": 6,
      "outputs": [
        {
          "output_type": "execute_result",
          "data": {
            "text/plain": [
              "apple    11\n",
              "mango    19\n",
              "dtype: int64"
            ]
          },
          "metadata": {
            "tags": []
          },
          "execution_count": 6
        }
      ]
    },
    {
      "cell_type": "markdown",
      "metadata": {
        "id": "LppM_1_UFZPu",
        "colab_type": "text"
      },
      "source": [
        "**Array operations: filtering**"
      ]
    },
    {
      "cell_type": "markdown",
      "metadata": {
        "id": "BtKjWf5OFcVf",
        "colab_type": "text"
      },
      "source": [
        "Conditional Selection"
      ]
    },
    {
      "cell_type": "code",
      "metadata": {
        "id": "DXywuZgxEo_t",
        "colab_type": "code",
        "colab": {
          "base_uri": "https://localhost:8080/",
          "height": 84
        },
        "outputId": "fa8f81bc-84e1-45ea-e019-4b26a4fd67d6"
      },
      "source": [
        "series2[series2 > 12]"
      ],
      "execution_count": 7,
      "outputs": [
        {
          "output_type": "execute_result",
          "data": {
            "text/plain": [
              "orange    15\n",
              "banana    17\n",
              "mango     19\n",
              "dtype: int64"
            ]
          },
          "metadata": {
            "tags": []
          },
          "execution_count": 7
        }
      ]
    },
    {
      "cell_type": "markdown",
      "metadata": {
        "id": "K_Wgrjm0Ff1p",
        "colab_type": "text"
      },
      "source": [
        "Scalar Multiplication"
      ]
    },
    {
      "cell_type": "code",
      "metadata": {
        "id": "0CkqJ5mHFdzc",
        "colab_type": "code",
        "colab": {
          "base_uri": "https://localhost:8080/",
          "height": 100
        },
        "outputId": "dd2c7636-ed72-4a53-e561-757aa2b3ed8a"
      },
      "source": [
        "series2/2"
      ],
      "execution_count": 8,
      "outputs": [
        {
          "output_type": "execute_result",
          "data": {
            "text/plain": [
              "apple     5.5\n",
              "orange    7.5\n",
              "banana    8.5\n",
              "mango     9.5\n",
              "dtype: float64"
            ]
          },
          "metadata": {
            "tags": []
          },
          "execution_count": 8
        }
      ]
    },
    {
      "cell_type": "markdown",
      "metadata": {
        "id": "NIhxw070F1Tp",
        "colab_type": "text"
      },
      "source": [
        "**Data Frames**"
      ]
    },
    {
      "cell_type": "code",
      "metadata": {
        "id": "Eze89qtqFnLb",
        "colab_type": "code",
        "colab": {}
      },
      "source": [
        "dictStudent ={'Name': ['Ramesh', 'Vineet', 'Kunal', 'Neha', 'Subham'], 'ID': [141, 220, 555, 637, 212], 'CGPA': [7.8, 8.3, 9.5, 8.9, 9.1]}\n",
        "studentFrame = pd.DataFrame(dictStudent)"
      ],
      "execution_count": 9,
      "outputs": []
    },
    {
      "cell_type": "code",
      "metadata": {
        "id": "KcyyQdMbHdoG",
        "colab_type": "code",
        "colab": {
          "base_uri": "https://localhost:8080/",
          "height": 196
        },
        "outputId": "a18589c4-9a69-45fb-8791-3297e37a2c7d"
      },
      "source": [
        "studentFrame"
      ],
      "execution_count": 10,
      "outputs": [
        {
          "output_type": "execute_result",
          "data": {
            "text/html": [
              "<div>\n",
              "<style scoped>\n",
              "    .dataframe tbody tr th:only-of-type {\n",
              "        vertical-align: middle;\n",
              "    }\n",
              "\n",
              "    .dataframe tbody tr th {\n",
              "        vertical-align: top;\n",
              "    }\n",
              "\n",
              "    .dataframe thead th {\n",
              "        text-align: right;\n",
              "    }\n",
              "</style>\n",
              "<table border=\"1\" class=\"dataframe\">\n",
              "  <thead>\n",
              "    <tr style=\"text-align: right;\">\n",
              "      <th></th>\n",
              "      <th>Name</th>\n",
              "      <th>ID</th>\n",
              "      <th>CGPA</th>\n",
              "    </tr>\n",
              "  </thead>\n",
              "  <tbody>\n",
              "    <tr>\n",
              "      <th>0</th>\n",
              "      <td>Ramesh</td>\n",
              "      <td>141</td>\n",
              "      <td>7.8</td>\n",
              "    </tr>\n",
              "    <tr>\n",
              "      <th>1</th>\n",
              "      <td>Vineet</td>\n",
              "      <td>220</td>\n",
              "      <td>8.3</td>\n",
              "    </tr>\n",
              "    <tr>\n",
              "      <th>2</th>\n",
              "      <td>Kunal</td>\n",
              "      <td>555</td>\n",
              "      <td>9.5</td>\n",
              "    </tr>\n",
              "    <tr>\n",
              "      <th>3</th>\n",
              "      <td>Neha</td>\n",
              "      <td>637</td>\n",
              "      <td>8.9</td>\n",
              "    </tr>\n",
              "    <tr>\n",
              "      <th>4</th>\n",
              "      <td>Subham</td>\n",
              "      <td>212</td>\n",
              "      <td>9.1</td>\n",
              "    </tr>\n",
              "  </tbody>\n",
              "</table>\n",
              "</div>"
            ],
            "text/plain": [
              "     Name   ID  CGPA\n",
              "0  Ramesh  141   7.8\n",
              "1  Vineet  220   8.3\n",
              "2   Kunal  555   9.5\n",
              "3    Neha  637   8.9\n",
              "4  Subham  212   9.1"
            ]
          },
          "metadata": {
            "tags": []
          },
          "execution_count": 10
        }
      ]
    },
    {
      "cell_type": "markdown",
      "metadata": {
        "id": "0E8oHJa0IAo_",
        "colab_type": "text"
      },
      "source": [
        "Can rename the rows"
      ]
    },
    {
      "cell_type": "code",
      "metadata": {
        "id": "MxRw4H0uH5-F",
        "colab_type": "code",
        "colab": {}
      },
      "source": [
        "studentFrame = pd.DataFrame(dictStudent, columns=['Name', 'ID', 'CGPA'], index=['row1','row2','row3','row4','row5'])"
      ],
      "execution_count": 11,
      "outputs": []
    },
    {
      "cell_type": "code",
      "metadata": {
        "id": "utz_-iaMIFy3",
        "colab_type": "code",
        "colab": {
          "base_uri": "https://localhost:8080/",
          "height": 196
        },
        "outputId": "bd9e1e83-05bc-4b74-88a6-609e1949b7b6"
      },
      "source": [
        "studentFrame"
      ],
      "execution_count": 12,
      "outputs": [
        {
          "output_type": "execute_result",
          "data": {
            "text/html": [
              "<div>\n",
              "<style scoped>\n",
              "    .dataframe tbody tr th:only-of-type {\n",
              "        vertical-align: middle;\n",
              "    }\n",
              "\n",
              "    .dataframe tbody tr th {\n",
              "        vertical-align: top;\n",
              "    }\n",
              "\n",
              "    .dataframe thead th {\n",
              "        text-align: right;\n",
              "    }\n",
              "</style>\n",
              "<table border=\"1\" class=\"dataframe\">\n",
              "  <thead>\n",
              "    <tr style=\"text-align: right;\">\n",
              "      <th></th>\n",
              "      <th>Name</th>\n",
              "      <th>ID</th>\n",
              "      <th>CGPA</th>\n",
              "    </tr>\n",
              "  </thead>\n",
              "  <tbody>\n",
              "    <tr>\n",
              "      <th>row1</th>\n",
              "      <td>Ramesh</td>\n",
              "      <td>141</td>\n",
              "      <td>7.8</td>\n",
              "    </tr>\n",
              "    <tr>\n",
              "      <th>row2</th>\n",
              "      <td>Vineet</td>\n",
              "      <td>220</td>\n",
              "      <td>8.3</td>\n",
              "    </tr>\n",
              "    <tr>\n",
              "      <th>row3</th>\n",
              "      <td>Kunal</td>\n",
              "      <td>555</td>\n",
              "      <td>9.5</td>\n",
              "    </tr>\n",
              "    <tr>\n",
              "      <th>row4</th>\n",
              "      <td>Neha</td>\n",
              "      <td>637</td>\n",
              "      <td>8.9</td>\n",
              "    </tr>\n",
              "    <tr>\n",
              "      <th>row5</th>\n",
              "      <td>Subham</td>\n",
              "      <td>212</td>\n",
              "      <td>9.1</td>\n",
              "    </tr>\n",
              "  </tbody>\n",
              "</table>\n",
              "</div>"
            ],
            "text/plain": [
              "        Name   ID  CGPA\n",
              "row1  Ramesh  141   7.8\n",
              "row2  Vineet  220   8.3\n",
              "row3   Kunal  555   9.5\n",
              "row4    Neha  637   8.9\n",
              "row5  Subham  212   9.1"
            ]
          },
          "metadata": {
            "tags": []
          },
          "execution_count": 12
        }
      ]
    },
    {
      "cell_type": "markdown",
      "metadata": {
        "id": "5HjAQhiMITcE",
        "colab_type": "text"
      },
      "source": [
        "Empty DataFrame"
      ]
    },
    {
      "cell_type": "code",
      "metadata": {
        "id": "dLE-FYXgIQep",
        "colab_type": "code",
        "colab": {
          "base_uri": "https://localhost:8080/",
          "height": 31
        },
        "outputId": "f346a7cc-e9de-4f4a-d8e1-58d27a294dae"
      },
      "source": [
        "stud2=pd.DataFrame()\n",
        "stud2"
      ],
      "execution_count": 13,
      "outputs": [
        {
          "output_type": "execute_result",
          "data": {
            "text/html": [
              "<div>\n",
              "<style scoped>\n",
              "    .dataframe tbody tr th:only-of-type {\n",
              "        vertical-align: middle;\n",
              "    }\n",
              "\n",
              "    .dataframe tbody tr th {\n",
              "        vertical-align: top;\n",
              "    }\n",
              "\n",
              "    .dataframe thead th {\n",
              "        text-align: right;\n",
              "    }\n",
              "</style>\n",
              "<table border=\"1\" class=\"dataframe\">\n",
              "  <thead>\n",
              "    <tr style=\"text-align: right;\">\n",
              "      <th></th>\n",
              "    </tr>\n",
              "  </thead>\n",
              "  <tbody>\n",
              "  </tbody>\n",
              "</table>\n",
              "</div>"
            ],
            "text/plain": [
              "Empty DataFrame\n",
              "Columns: []\n",
              "Index: []"
            ]
          },
          "metadata": {
            "tags": []
          },
          "execution_count": 13
        }
      ]
    },
    {
      "cell_type": "markdown",
      "metadata": {
        "id": "ds_A9N3GIeuh",
        "colab_type": "text"
      },
      "source": [
        "Absent Columns"
      ]
    },
    {
      "cell_type": "code",
      "metadata": {
        "id": "xqOvdRtoIWC8",
        "colab_type": "code",
        "colab": {
          "base_uri": "https://localhost:8080/",
          "height": 196
        },
        "outputId": "7c9e099d-bf2b-46c7-8cd1-bf522532a692"
      },
      "source": [
        "studentFrame = pd.DataFrame(dictStudent, columns=['Name', 'ID','Major','CGPA'])\n",
        "studentFrame"
      ],
      "execution_count": 14,
      "outputs": [
        {
          "output_type": "execute_result",
          "data": {
            "text/html": [
              "<div>\n",
              "<style scoped>\n",
              "    .dataframe tbody tr th:only-of-type {\n",
              "        vertical-align: middle;\n",
              "    }\n",
              "\n",
              "    .dataframe tbody tr th {\n",
              "        vertical-align: top;\n",
              "    }\n",
              "\n",
              "    .dataframe thead th {\n",
              "        text-align: right;\n",
              "    }\n",
              "</style>\n",
              "<table border=\"1\" class=\"dataframe\">\n",
              "  <thead>\n",
              "    <tr style=\"text-align: right;\">\n",
              "      <th></th>\n",
              "      <th>Name</th>\n",
              "      <th>ID</th>\n",
              "      <th>Major</th>\n",
              "      <th>CGPA</th>\n",
              "    </tr>\n",
              "  </thead>\n",
              "  <tbody>\n",
              "    <tr>\n",
              "      <th>0</th>\n",
              "      <td>Ramesh</td>\n",
              "      <td>141</td>\n",
              "      <td>NaN</td>\n",
              "      <td>7.8</td>\n",
              "    </tr>\n",
              "    <tr>\n",
              "      <th>1</th>\n",
              "      <td>Vineet</td>\n",
              "      <td>220</td>\n",
              "      <td>NaN</td>\n",
              "      <td>8.3</td>\n",
              "    </tr>\n",
              "    <tr>\n",
              "      <th>2</th>\n",
              "      <td>Kunal</td>\n",
              "      <td>555</td>\n",
              "      <td>NaN</td>\n",
              "      <td>9.5</td>\n",
              "    </tr>\n",
              "    <tr>\n",
              "      <th>3</th>\n",
              "      <td>Neha</td>\n",
              "      <td>637</td>\n",
              "      <td>NaN</td>\n",
              "      <td>8.9</td>\n",
              "    </tr>\n",
              "    <tr>\n",
              "      <th>4</th>\n",
              "      <td>Subham</td>\n",
              "      <td>212</td>\n",
              "      <td>NaN</td>\n",
              "      <td>9.1</td>\n",
              "    </tr>\n",
              "  </tbody>\n",
              "</table>\n",
              "</div>"
            ],
            "text/plain": [
              "     Name   ID Major  CGPA\n",
              "0  Ramesh  141   NaN   7.8\n",
              "1  Vineet  220   NaN   8.3\n",
              "2   Kunal  555   NaN   9.5\n",
              "3    Neha  637   NaN   8.9\n",
              "4  Subham  212   NaN   9.1"
            ]
          },
          "metadata": {
            "tags": []
          },
          "execution_count": 14
        }
      ]
    },
    {
      "cell_type": "markdown",
      "metadata": {
        "id": "WVpXK-8hIrdv",
        "colab_type": "text"
      },
      "source": [
        "Retrieving Columns"
      ]
    },
    {
      "cell_type": "code",
      "metadata": {
        "id": "RJuQPfjtInl0",
        "colab_type": "code",
        "colab": {
          "base_uri": "https://localhost:8080/",
          "height": 117
        },
        "outputId": "d5d9a983-37f1-4571-9607-9ea8d5d8b261"
      },
      "source": [
        "studentFrame.ID"
      ],
      "execution_count": 15,
      "outputs": [
        {
          "output_type": "execute_result",
          "data": {
            "text/plain": [
              "0    141\n",
              "1    220\n",
              "2    555\n",
              "3    637\n",
              "4    212\n",
              "Name: ID, dtype: int64"
            ]
          },
          "metadata": {
            "tags": []
          },
          "execution_count": 15
        }
      ]
    },
    {
      "cell_type": "code",
      "metadata": {
        "id": "RMXgSD4oIueO",
        "colab_type": "code",
        "colab": {
          "base_uri": "https://localhost:8080/",
          "height": 117
        },
        "outputId": "6d4e6b3e-986d-4b7f-84f6-38a4f8a48885"
      },
      "source": [
        "studentFrame['ID']"
      ],
      "execution_count": 16,
      "outputs": [
        {
          "output_type": "execute_result",
          "data": {
            "text/plain": [
              "0    141\n",
              "1    220\n",
              "2    555\n",
              "3    637\n",
              "4    212\n",
              "Name: ID, dtype: int64"
            ]
          },
          "metadata": {
            "tags": []
          },
          "execution_count": 16
        }
      ]
    },
    {
      "cell_type": "markdown",
      "metadata": {
        "id": "0MdhLotcIySV",
        "colab_type": "text"
      },
      "source": [
        "Retrieving Rows"
      ]
    },
    {
      "cell_type": "code",
      "metadata": {
        "id": "SaoD6BO0I24X",
        "colab_type": "code",
        "colab": {
          "base_uri": "https://localhost:8080/",
          "height": 100
        },
        "outputId": "e21bc669-90a6-4a12-e971-1804119febc4"
      },
      "source": [
        "studentFrame.iloc[0]"
      ],
      "execution_count": 17,
      "outputs": [
        {
          "output_type": "execute_result",
          "data": {
            "text/plain": [
              "Name     Ramesh\n",
              "ID          141\n",
              "Major       NaN\n",
              "CGPA        7.8\n",
              "Name: 0, dtype: object"
            ]
          },
          "metadata": {
            "tags": []
          },
          "execution_count": 17
        }
      ]
    },
    {
      "cell_type": "markdown",
      "metadata": {
        "id": "-7F7D3ZOJCzk",
        "colab_type": "text"
      },
      "source": [
        "or ==> studentFrame.loc['row1']"
      ]
    },
    {
      "cell_type": "markdown",
      "metadata": {
        "id": "YSljFh6PJLQv",
        "colab_type": "text"
      },
      "source": [
        "**Assigning Columns**"
      ]
    },
    {
      "cell_type": "code",
      "metadata": {
        "id": "xqkaQnEeI5SN",
        "colab_type": "code",
        "colab": {}
      },
      "source": [
        "students={'Name':['A','B','C','D','E'],'ID':[199,299,399,499,599],'CGPA':[9.3,9.2,9.1,8.9,9.5]}"
      ],
      "execution_count": 18,
      "outputs": []
    },
    {
      "cell_type": "code",
      "metadata": {
        "id": "1sOccbAZJPJw",
        "colab_type": "code",
        "colab": {}
      },
      "source": [
        "studFrame=pd.DataFrame(students,columns=['Name','ID','CGPA'])"
      ],
      "execution_count": 19,
      "outputs": []
    },
    {
      "cell_type": "code",
      "metadata": {
        "id": "Hj3rbBUNJTap",
        "colab_type": "code",
        "colab": {
          "base_uri": "https://localhost:8080/",
          "height": 196
        },
        "outputId": "ed26ee8f-4f17-4580-ad3e-409a8478fca0"
      },
      "source": [
        "studFrame"
      ],
      "execution_count": 20,
      "outputs": [
        {
          "output_type": "execute_result",
          "data": {
            "text/html": [
              "<div>\n",
              "<style scoped>\n",
              "    .dataframe tbody tr th:only-of-type {\n",
              "        vertical-align: middle;\n",
              "    }\n",
              "\n",
              "    .dataframe tbody tr th {\n",
              "        vertical-align: top;\n",
              "    }\n",
              "\n",
              "    .dataframe thead th {\n",
              "        text-align: right;\n",
              "    }\n",
              "</style>\n",
              "<table border=\"1\" class=\"dataframe\">\n",
              "  <thead>\n",
              "    <tr style=\"text-align: right;\">\n",
              "      <th></th>\n",
              "      <th>Name</th>\n",
              "      <th>ID</th>\n",
              "      <th>CGPA</th>\n",
              "    </tr>\n",
              "  </thead>\n",
              "  <tbody>\n",
              "    <tr>\n",
              "      <th>0</th>\n",
              "      <td>A</td>\n",
              "      <td>199</td>\n",
              "      <td>9.3</td>\n",
              "    </tr>\n",
              "    <tr>\n",
              "      <th>1</th>\n",
              "      <td>B</td>\n",
              "      <td>299</td>\n",
              "      <td>9.2</td>\n",
              "    </tr>\n",
              "    <tr>\n",
              "      <th>2</th>\n",
              "      <td>C</td>\n",
              "      <td>399</td>\n",
              "      <td>9.1</td>\n",
              "    </tr>\n",
              "    <tr>\n",
              "      <th>3</th>\n",
              "      <td>D</td>\n",
              "      <td>499</td>\n",
              "      <td>8.9</td>\n",
              "    </tr>\n",
              "    <tr>\n",
              "      <th>4</th>\n",
              "      <td>E</td>\n",
              "      <td>599</td>\n",
              "      <td>9.5</td>\n",
              "    </tr>\n",
              "  </tbody>\n",
              "</table>\n",
              "</div>"
            ],
            "text/plain": [
              "  Name   ID  CGPA\n",
              "0    A  199   9.3\n",
              "1    B  299   9.2\n",
              "2    C  399   9.1\n",
              "3    D  499   8.9\n",
              "4    E  599   9.5"
            ]
          },
          "metadata": {
            "tags": []
          },
          "execution_count": 20
        }
      ]
    },
    {
      "cell_type": "code",
      "metadata": {
        "id": "2Kg1pJsZJVIl",
        "colab_type": "code",
        "colab": {
          "base_uri": "https://localhost:8080/",
          "height": 196
        },
        "outputId": "559e3120-c45e-443f-c81f-203c42d16c22"
      },
      "source": [
        "studFrame['CGPA']=10\n",
        "studFrame"
      ],
      "execution_count": 21,
      "outputs": [
        {
          "output_type": "execute_result",
          "data": {
            "text/html": [
              "<div>\n",
              "<style scoped>\n",
              "    .dataframe tbody tr th:only-of-type {\n",
              "        vertical-align: middle;\n",
              "    }\n",
              "\n",
              "    .dataframe tbody tr th {\n",
              "        vertical-align: top;\n",
              "    }\n",
              "\n",
              "    .dataframe thead th {\n",
              "        text-align: right;\n",
              "    }\n",
              "</style>\n",
              "<table border=\"1\" class=\"dataframe\">\n",
              "  <thead>\n",
              "    <tr style=\"text-align: right;\">\n",
              "      <th></th>\n",
              "      <th>Name</th>\n",
              "      <th>ID</th>\n",
              "      <th>CGPA</th>\n",
              "    </tr>\n",
              "  </thead>\n",
              "  <tbody>\n",
              "    <tr>\n",
              "      <th>0</th>\n",
              "      <td>A</td>\n",
              "      <td>199</td>\n",
              "      <td>10</td>\n",
              "    </tr>\n",
              "    <tr>\n",
              "      <th>1</th>\n",
              "      <td>B</td>\n",
              "      <td>299</td>\n",
              "      <td>10</td>\n",
              "    </tr>\n",
              "    <tr>\n",
              "      <th>2</th>\n",
              "      <td>C</td>\n",
              "      <td>399</td>\n",
              "      <td>10</td>\n",
              "    </tr>\n",
              "    <tr>\n",
              "      <th>3</th>\n",
              "      <td>D</td>\n",
              "      <td>499</td>\n",
              "      <td>10</td>\n",
              "    </tr>\n",
              "    <tr>\n",
              "      <th>4</th>\n",
              "      <td>E</td>\n",
              "      <td>599</td>\n",
              "      <td>10</td>\n",
              "    </tr>\n",
              "  </tbody>\n",
              "</table>\n",
              "</div>"
            ],
            "text/plain": [
              "  Name   ID  CGPA\n",
              "0    A  199    10\n",
              "1    B  299    10\n",
              "2    C  399    10\n",
              "3    D  499    10\n",
              "4    E  599    10"
            ]
          },
          "metadata": {
            "tags": []
          },
          "execution_count": 21
        }
      ]
    },
    {
      "cell_type": "code",
      "metadata": {
        "id": "kAUELNPBJZ7S",
        "colab_type": "code",
        "colab": {
          "base_uri": "https://localhost:8080/",
          "height": 196
        },
        "outputId": "3b462466-d5d0-4e1e-a6a1-ce1b46ab8b9d"
      },
      "source": [
        "import numpy as np\n",
        "studFrame['CGPA']=np.arange(5)+5\n",
        "studFrame"
      ],
      "execution_count": 22,
      "outputs": [
        {
          "output_type": "execute_result",
          "data": {
            "text/html": [
              "<div>\n",
              "<style scoped>\n",
              "    .dataframe tbody tr th:only-of-type {\n",
              "        vertical-align: middle;\n",
              "    }\n",
              "\n",
              "    .dataframe tbody tr th {\n",
              "        vertical-align: top;\n",
              "    }\n",
              "\n",
              "    .dataframe thead th {\n",
              "        text-align: right;\n",
              "    }\n",
              "</style>\n",
              "<table border=\"1\" class=\"dataframe\">\n",
              "  <thead>\n",
              "    <tr style=\"text-align: right;\">\n",
              "      <th></th>\n",
              "      <th>Name</th>\n",
              "      <th>ID</th>\n",
              "      <th>CGPA</th>\n",
              "    </tr>\n",
              "  </thead>\n",
              "  <tbody>\n",
              "    <tr>\n",
              "      <th>0</th>\n",
              "      <td>A</td>\n",
              "      <td>199</td>\n",
              "      <td>5</td>\n",
              "    </tr>\n",
              "    <tr>\n",
              "      <th>1</th>\n",
              "      <td>B</td>\n",
              "      <td>299</td>\n",
              "      <td>6</td>\n",
              "    </tr>\n",
              "    <tr>\n",
              "      <th>2</th>\n",
              "      <td>C</td>\n",
              "      <td>399</td>\n",
              "      <td>7</td>\n",
              "    </tr>\n",
              "    <tr>\n",
              "      <th>3</th>\n",
              "      <td>D</td>\n",
              "      <td>499</td>\n",
              "      <td>8</td>\n",
              "    </tr>\n",
              "    <tr>\n",
              "      <th>4</th>\n",
              "      <td>E</td>\n",
              "      <td>599</td>\n",
              "      <td>9</td>\n",
              "    </tr>\n",
              "  </tbody>\n",
              "</table>\n",
              "</div>"
            ],
            "text/plain": [
              "  Name   ID  CGPA\n",
              "0    A  199     5\n",
              "1    B  299     6\n",
              "2    C  399     7\n",
              "3    D  499     8\n",
              "4    E  599     9"
            ]
          },
          "metadata": {
            "tags": []
          },
          "execution_count": 22
        }
      ]
    },
    {
      "cell_type": "markdown",
      "metadata": {
        "id": "q40z3kP3Jmcf",
        "colab_type": "text"
      },
      "source": [
        "**Assigning Columns from Series**"
      ]
    },
    {
      "cell_type": "markdown",
      "metadata": {
        "id": "jWWhcRXfJ-U6",
        "colab_type": "text"
      },
      "source": [
        "A column that does not exist can be added "
      ]
    },
    {
      "cell_type": "code",
      "metadata": {
        "id": "gsSGB3-SJfn3",
        "colab_type": "code",
        "colab": {}
      },
      "source": [
        "vals=pd.Series([7.5,8.5,9.5],index=[2,3,4])\n",
        "studFrame['SGPA']=vals"
      ],
      "execution_count": 23,
      "outputs": []
    },
    {
      "cell_type": "code",
      "metadata": {
        "id": "8oFpjOvIJr1q",
        "colab_type": "code",
        "colab": {
          "base_uri": "https://localhost:8080/",
          "height": 196
        },
        "outputId": "1444a45a-76db-4ea5-e77f-a2db9c049d39"
      },
      "source": [
        "studFrame"
      ],
      "execution_count": 24,
      "outputs": [
        {
          "output_type": "execute_result",
          "data": {
            "text/html": [
              "<div>\n",
              "<style scoped>\n",
              "    .dataframe tbody tr th:only-of-type {\n",
              "        vertical-align: middle;\n",
              "    }\n",
              "\n",
              "    .dataframe tbody tr th {\n",
              "        vertical-align: top;\n",
              "    }\n",
              "\n",
              "    .dataframe thead th {\n",
              "        text-align: right;\n",
              "    }\n",
              "</style>\n",
              "<table border=\"1\" class=\"dataframe\">\n",
              "  <thead>\n",
              "    <tr style=\"text-align: right;\">\n",
              "      <th></th>\n",
              "      <th>Name</th>\n",
              "      <th>ID</th>\n",
              "      <th>CGPA</th>\n",
              "      <th>SGPA</th>\n",
              "    </tr>\n",
              "  </thead>\n",
              "  <tbody>\n",
              "    <tr>\n",
              "      <th>0</th>\n",
              "      <td>A</td>\n",
              "      <td>199</td>\n",
              "      <td>5</td>\n",
              "      <td>NaN</td>\n",
              "    </tr>\n",
              "    <tr>\n",
              "      <th>1</th>\n",
              "      <td>B</td>\n",
              "      <td>299</td>\n",
              "      <td>6</td>\n",
              "      <td>NaN</td>\n",
              "    </tr>\n",
              "    <tr>\n",
              "      <th>2</th>\n",
              "      <td>C</td>\n",
              "      <td>399</td>\n",
              "      <td>7</td>\n",
              "      <td>7.5</td>\n",
              "    </tr>\n",
              "    <tr>\n",
              "      <th>3</th>\n",
              "      <td>D</td>\n",
              "      <td>499</td>\n",
              "      <td>8</td>\n",
              "      <td>8.5</td>\n",
              "    </tr>\n",
              "    <tr>\n",
              "      <th>4</th>\n",
              "      <td>E</td>\n",
              "      <td>599</td>\n",
              "      <td>9</td>\n",
              "      <td>9.5</td>\n",
              "    </tr>\n",
              "  </tbody>\n",
              "</table>\n",
              "</div>"
            ],
            "text/plain": [
              "  Name   ID  CGPA  SGPA\n",
              "0    A  199     5   NaN\n",
              "1    B  299     6   NaN\n",
              "2    C  399     7   7.5\n",
              "3    D  499     8   8.5\n",
              "4    E  599     9   9.5"
            ]
          },
          "metadata": {
            "tags": []
          },
          "execution_count": 24
        }
      ]
    },
    {
      "cell_type": "markdown",
      "metadata": {
        "id": "oUGB9B00KQ_X",
        "colab_type": "text"
      },
      "source": [
        "Deleting Columns"
      ]
    },
    {
      "cell_type": "code",
      "metadata": {
        "id": "0oWaGdoXJvBT",
        "colab_type": "code",
        "colab": {
          "base_uri": "https://localhost:8080/",
          "height": 196
        },
        "outputId": "9d98d229-5694-4daa-e8e5-698aaf65dcfe"
      },
      "source": [
        "del studFrame['SGPA']\n",
        "studFrame"
      ],
      "execution_count": 25,
      "outputs": [
        {
          "output_type": "execute_result",
          "data": {
            "text/html": [
              "<div>\n",
              "<style scoped>\n",
              "    .dataframe tbody tr th:only-of-type {\n",
              "        vertical-align: middle;\n",
              "    }\n",
              "\n",
              "    .dataframe tbody tr th {\n",
              "        vertical-align: top;\n",
              "    }\n",
              "\n",
              "    .dataframe thead th {\n",
              "        text-align: right;\n",
              "    }\n",
              "</style>\n",
              "<table border=\"1\" class=\"dataframe\">\n",
              "  <thead>\n",
              "    <tr style=\"text-align: right;\">\n",
              "      <th></th>\n",
              "      <th>Name</th>\n",
              "      <th>ID</th>\n",
              "      <th>CGPA</th>\n",
              "    </tr>\n",
              "  </thead>\n",
              "  <tbody>\n",
              "    <tr>\n",
              "      <th>0</th>\n",
              "      <td>A</td>\n",
              "      <td>199</td>\n",
              "      <td>5</td>\n",
              "    </tr>\n",
              "    <tr>\n",
              "      <th>1</th>\n",
              "      <td>B</td>\n",
              "      <td>299</td>\n",
              "      <td>6</td>\n",
              "    </tr>\n",
              "    <tr>\n",
              "      <th>2</th>\n",
              "      <td>C</td>\n",
              "      <td>399</td>\n",
              "      <td>7</td>\n",
              "    </tr>\n",
              "    <tr>\n",
              "      <th>3</th>\n",
              "      <td>D</td>\n",
              "      <td>499</td>\n",
              "      <td>8</td>\n",
              "    </tr>\n",
              "    <tr>\n",
              "      <th>4</th>\n",
              "      <td>E</td>\n",
              "      <td>599</td>\n",
              "      <td>9</td>\n",
              "    </tr>\n",
              "  </tbody>\n",
              "</table>\n",
              "</div>"
            ],
            "text/plain": [
              "  Name   ID  CGPA\n",
              "0    A  199     5\n",
              "1    B  299     6\n",
              "2    C  399     7\n",
              "3    D  499     8\n",
              "4    E  599     9"
            ]
          },
          "metadata": {
            "tags": []
          },
          "execution_count": 25
        }
      ]
    },
    {
      "cell_type": "markdown",
      "metadata": {
        "id": "KBTP7S_vKX1W",
        "colab_type": "text"
      },
      "source": [
        "Dataframe from Dictionary of Dictionaries"
      ]
    },
    {
      "cell_type": "code",
      "metadata": {
        "id": "iMrJ5j9iKTOc",
        "colab_type": "code",
        "colab": {}
      },
      "source": [
        "avgs = {'Dhoni': {2017: 55.2, 2018: 32.91, 2019: 55.5}, 'Rishab': {2018: 41.5, 2019: 51.7}}"
      ],
      "execution_count": 26,
      "outputs": []
    },
    {
      "cell_type": "code",
      "metadata": {
        "id": "pCAvCdagOug0",
        "colab_type": "code",
        "colab": {
          "base_uri": "https://localhost:8080/",
          "height": 137
        },
        "outputId": "8ee07d93-b926-4895-f6f3-559e5e81dd33"
      },
      "source": [
        "keepers=pd.DataFrame(avgs)\n",
        "keepers"
      ],
      "execution_count": 27,
      "outputs": [
        {
          "output_type": "execute_result",
          "data": {
            "text/html": [
              "<div>\n",
              "<style scoped>\n",
              "    .dataframe tbody tr th:only-of-type {\n",
              "        vertical-align: middle;\n",
              "    }\n",
              "\n",
              "    .dataframe tbody tr th {\n",
              "        vertical-align: top;\n",
              "    }\n",
              "\n",
              "    .dataframe thead th {\n",
              "        text-align: right;\n",
              "    }\n",
              "</style>\n",
              "<table border=\"1\" class=\"dataframe\">\n",
              "  <thead>\n",
              "    <tr style=\"text-align: right;\">\n",
              "      <th></th>\n",
              "      <th>Dhoni</th>\n",
              "      <th>Rishab</th>\n",
              "    </tr>\n",
              "  </thead>\n",
              "  <tbody>\n",
              "    <tr>\n",
              "      <th>2017</th>\n",
              "      <td>55.20</td>\n",
              "      <td>NaN</td>\n",
              "    </tr>\n",
              "    <tr>\n",
              "      <th>2018</th>\n",
              "      <td>32.91</td>\n",
              "      <td>41.5</td>\n",
              "    </tr>\n",
              "    <tr>\n",
              "      <th>2019</th>\n",
              "      <td>55.50</td>\n",
              "      <td>51.7</td>\n",
              "    </tr>\n",
              "  </tbody>\n",
              "</table>\n",
              "</div>"
            ],
            "text/plain": [
              "      Dhoni  Rishab\n",
              "2017  55.20     NaN\n",
              "2018  32.91    41.5\n",
              "2019  55.50    51.7"
            ]
          },
          "metadata": {
            "tags": []
          },
          "execution_count": 27
        }
      ]
    },
    {
      "cell_type": "markdown",
      "metadata": {
        "id": "haVGXp5pO1ov",
        "colab_type": "text"
      },
      "source": [
        "The outer dictionary is treated as columns,\n",
        "Inner dictionaries are treated as rows"
      ]
    },
    {
      "cell_type": "markdown",
      "metadata": {
        "id": "RNqfX4ISO_3Z",
        "colab_type": "text"
      },
      "source": [
        "**Pandas Index Objects**"
      ]
    },
    {
      "cell_type": "markdown",
      "metadata": {
        "id": "JLNnGoZdPGOB",
        "colab_type": "text"
      },
      "source": [
        "Index objects store index labels and\n",
        "index names for different pandas\n",
        "objects"
      ]
    },
    {
      "cell_type": "code",
      "metadata": {
        "id": "GtPpC6BIOyEH",
        "colab_type": "code",
        "colab": {
          "base_uri": "https://localhost:8080/",
          "height": 33
        },
        "outputId": "fef5c162-758b-43e7-cd1a-856c168313dd"
      },
      "source": [
        "keepers.index"
      ],
      "execution_count": 28,
      "outputs": [
        {
          "output_type": "execute_result",
          "data": {
            "text/plain": [
              "Int64Index([2017, 2018, 2019], dtype='int64')"
            ]
          },
          "metadata": {
            "tags": []
          },
          "execution_count": 28
        }
      ]
    },
    {
      "cell_type": "code",
      "metadata": {
        "id": "Osx72RvQPCf5",
        "colab_type": "code",
        "colab": {
          "base_uri": "https://localhost:8080/",
          "height": 33
        },
        "outputId": "ff6a88a8-3b67-4275-caab-b207309406fa"
      },
      "source": [
        "batsmen=pd.Series([43,77,101],index=[\"Rohit\",\"Dhawan\",\"Kohli\"])\n",
        "batsmen.index"
      ],
      "execution_count": 29,
      "outputs": [
        {
          "output_type": "execute_result",
          "data": {
            "text/plain": [
              "Index(['Rohit', 'Dhawan', 'Kohli'], dtype='object')"
            ]
          },
          "metadata": {
            "tags": []
          },
          "execution_count": 29
        }
      ]
    },
    {
      "cell_type": "code",
      "metadata": {
        "id": "Pp7yWiBoPLOn",
        "colab_type": "code",
        "colab": {
          "base_uri": "https://localhost:8080/",
          "height": 84
        },
        "outputId": "a933f61a-5f07-4b2b-9fd3-88226a363301"
      },
      "source": [
        "batsmen"
      ],
      "execution_count": 30,
      "outputs": [
        {
          "output_type": "execute_result",
          "data": {
            "text/plain": [
              "Rohit      43\n",
              "Dhawan     77\n",
              "Kohli     101\n",
              "dtype: int64"
            ]
          },
          "metadata": {
            "tags": []
          },
          "execution_count": 30
        }
      ]
    },
    {
      "cell_type": "markdown",
      "metadata": {
        "id": "jAdsgi7XPReR",
        "colab_type": "text"
      },
      "source": [
        "Index objects are immutable"
      ]
    },
    {
      "cell_type": "markdown",
      "metadata": {
        "id": "rdgG8fLmPXoP",
        "colab_type": "text"
      },
      "source": [
        "**DataFrame Index Objects**"
      ]
    },
    {
      "cell_type": "code",
      "metadata": {
        "id": "iMbc2oHCPTmm",
        "colab_type": "code",
        "colab": {
          "base_uri": "https://localhost:8080/",
          "height": 33
        },
        "outputId": "1841024d-d59f-493f-f623-065d1c27c6b0"
      },
      "source": [
        "keepers.columns"
      ],
      "execution_count": 32,
      "outputs": [
        {
          "output_type": "execute_result",
          "data": {
            "text/plain": [
              "Index(['Dhoni', 'Rishab'], dtype='object')"
            ]
          },
          "metadata": {
            "tags": []
          },
          "execution_count": 32
        }
      ]
    },
    {
      "cell_type": "code",
      "metadata": {
        "id": "rVWwWr8oPZfj",
        "colab_type": "code",
        "colab": {
          "base_uri": "https://localhost:8080/",
          "height": 34
        },
        "outputId": "dce2162f-7e54-4838-cb60-0d30e5f7a1a7"
      },
      "source": [
        "keepers.index"
      ],
      "execution_count": null,
      "outputs": [
        {
          "output_type": "execute_result",
          "data": {
            "text/plain": [
              "Int64Index([2017, 2018, 2019], dtype='int64')"
            ]
          },
          "metadata": {
            "tags": []
          },
          "execution_count": 51
        }
      ]
    },
    {
      "cell_type": "markdown",
      "metadata": {
        "id": "RBfSGn81PgSk",
        "colab_type": "text"
      },
      "source": [
        "**Pandas Index Objects as Sets**"
      ]
    },
    {
      "cell_type": "code",
      "metadata": {
        "id": "3fg_ui4jPdxg",
        "colab_type": "code",
        "colab": {
          "base_uri": "https://localhost:8080/",
          "height": 33
        },
        "outputId": "dc70e4e0-04a5-4f85-bcc0-d43169b9dd2b"
      },
      "source": [
        "\"Rishab\" in keepers.columns"
      ],
      "execution_count": 33,
      "outputs": [
        {
          "output_type": "execute_result",
          "data": {
            "text/plain": [
              "True"
            ]
          },
          "metadata": {
            "tags": []
          },
          "execution_count": 33
        }
      ]
    },
    {
      "cell_type": "code",
      "metadata": {
        "id": "j-YEHZ9NPkne",
        "colab_type": "code",
        "colab": {
          "base_uri": "https://localhost:8080/",
          "height": 33
        },
        "outputId": "8b3e4f1e-b042-4d9c-f286-75fd5b895b69"
      },
      "source": [
        "\"Rohit\"in keepers.columns"
      ],
      "execution_count": 34,
      "outputs": [
        {
          "output_type": "execute_result",
          "data": {
            "text/plain": [
              "False"
            ]
          },
          "metadata": {
            "tags": []
          },
          "execution_count": 34
        }
      ]
    },
    {
      "cell_type": "code",
      "metadata": {
        "id": "-x-hjGEWPlrS",
        "colab_type": "code",
        "colab": {
          "base_uri": "https://localhost:8080/",
          "height": 33
        },
        "outputId": "a1f6c88b-c963-40b9-a957-893d23d08576"
      },
      "source": [
        "2017 in keepers.index"
      ],
      "execution_count": 35,
      "outputs": [
        {
          "output_type": "execute_result",
          "data": {
            "text/plain": [
              "True"
            ]
          },
          "metadata": {
            "tags": []
          },
          "execution_count": 35
        }
      ]
    },
    {
      "cell_type": "code",
      "metadata": {
        "id": "85n05-1cPm3R",
        "colab_type": "code",
        "colab": {
          "base_uri": "https://localhost:8080/",
          "height": 33
        },
        "outputId": "c8b4a2cd-27cd-4806-e02c-d3f504b783eb"
      },
      "source": [
        "keepers.columns"
      ],
      "execution_count": 36,
      "outputs": [
        {
          "output_type": "execute_result",
          "data": {
            "text/plain": [
              "Index(['Dhoni', 'Rishab'], dtype='object')"
            ]
          },
          "metadata": {
            "tags": []
          },
          "execution_count": 36
        }
      ]
    },
    {
      "cell_type": "code",
      "metadata": {
        "id": "bkxSXjMpPvT-",
        "colab_type": "code",
        "colab": {
          "base_uri": "https://localhost:8080/",
          "height": 33
        },
        "outputId": "ac4c87e9-2461-434b-f03b-73fee77c0269"
      },
      "source": [
        "batsmen.index"
      ],
      "execution_count": 37,
      "outputs": [
        {
          "output_type": "execute_result",
          "data": {
            "text/plain": [
              "Index(['Rohit', 'Dhawan', 'Kohli'], dtype='object')"
            ]
          },
          "metadata": {
            "tags": []
          },
          "execution_count": 37
        }
      ]
    },
    {
      "cell_type": "code",
      "metadata": {
        "id": "BRq11KZYPwWc",
        "colab_type": "code",
        "colab": {
          "base_uri": "https://localhost:8080/",
          "height": 33
        },
        "outputId": "1f1f2ca1-a20d-4bfa-ef9f-9ef081da8f8c"
      },
      "source": [
        "batsmen.index.append(keepers.columns)"
      ],
      "execution_count": 38,
      "outputs": [
        {
          "output_type": "execute_result",
          "data": {
            "text/plain": [
              "Index(['Rohit', 'Dhawan', 'Kohli', 'Dhoni', 'Rishab'], dtype='object')"
            ]
          },
          "metadata": {
            "tags": []
          },
          "execution_count": 38
        }
      ]
    },
    {
      "cell_type": "markdown",
      "metadata": {
        "id": "3A6aYJCKP66v",
        "colab_type": "text"
      },
      "source": [
        "Since index objects are immutable,\n",
        "the above creates a new index object\n",
        "without disturbing the original index"
      ]
    },
    {
      "cell_type": "code",
      "metadata": {
        "id": "axfXDmAwPz8R",
        "colab_type": "code",
        "colab": {
          "base_uri": "https://localhost:8080/",
          "height": 33
        },
        "outputId": "d4547edc-1429-4209-a374-f81b37e5a9b3"
      },
      "source": [
        "batsmen.index"
      ],
      "execution_count": 39,
      "outputs": [
        {
          "output_type": "execute_result",
          "data": {
            "text/plain": [
              "Index(['Rohit', 'Dhawan', 'Kohli'], dtype='object')"
            ]
          },
          "metadata": {
            "tags": []
          },
          "execution_count": 39
        }
      ]
    },
    {
      "cell_type": "markdown",
      "metadata": {
        "id": "aaz5CKwXQA7v",
        "colab_type": "text"
      },
      "source": [
        "**Pandas Index Object Methods**"
      ]
    },
    {
      "cell_type": "markdown",
      "metadata": {
        "id": "U2nAHmuZQHH3",
        "colab_type": "text"
      },
      "source": [
        "We may remove entries from axes by\n",
        "labels using drop or by explicitly\n",
        "mentioning the index position using\n",
        "delete"
      ]
    },
    {
      "cell_type": "code",
      "metadata": {
        "id": "p0nVggp2P8dR",
        "colab_type": "code",
        "colab": {
          "base_uri": "https://localhost:8080/",
          "height": 33
        },
        "outputId": "ef14563c-8c28-4cc2-c896-d2855b2f137c"
      },
      "source": [
        "batsmen.index.drop(\"Rohit\")"
      ],
      "execution_count": 40,
      "outputs": [
        {
          "output_type": "execute_result",
          "data": {
            "text/plain": [
              "Index(['Dhawan', 'Kohli'], dtype='object')"
            ]
          },
          "metadata": {
            "tags": []
          },
          "execution_count": 40
        }
      ]
    },
    {
      "cell_type": "code",
      "metadata": {
        "id": "Ao4-8LXqQDIp",
        "colab_type": "code",
        "colab": {
          "base_uri": "https://localhost:8080/",
          "height": 33
        },
        "outputId": "421523eb-7549-4d71-c990-ba66eae5ad73"
      },
      "source": [
        "batsmen.index.delete(1)"
      ],
      "execution_count": 41,
      "outputs": [
        {
          "output_type": "execute_result",
          "data": {
            "text/plain": [
              "Index(['Rohit', 'Kohli'], dtype='object')"
            ]
          },
          "metadata": {
            "tags": []
          },
          "execution_count": 41
        }
      ]
    },
    {
      "cell_type": "code",
      "metadata": {
        "id": "aNAeCI1cQK8H",
        "colab_type": "code",
        "colab": {}
      },
      "source": [
        ""
      ],
      "execution_count": 41,
      "outputs": []
    }
  ]
}
